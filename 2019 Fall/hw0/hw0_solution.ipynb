{
 "cells": [
  {
   "cell_type": "code",
   "execution_count": 97,
   "metadata": {},
   "outputs": [],
   "source": [
    "import os\n",
    "import numpy as np\n",
    "import scipy as sp\n",
    "import matplotlib.pyplot as plt\n",
    "import networkx as nx"
   ]
  },
  {
   "cell_type": "markdown",
   "metadata": {},
   "source": [
    "# 1 Analyzing the Wikipedia voters network [27 points]\n",
    "Download the Wikipedia voting network wiki-Vote.txt.gz: http://snap.stanford.edu/data/wiki-Vote.html. \n",
    "\n",
    "Using one of the network analysis tools above, load the Wikipedia voting network. Note that Wikipedia is a directed network. Formally, we consider the Wikipedia network as a directed graph G = (V, E), with node set V and edge set E ⊂ V × V where (edges are ordered pairs of nodes). An edge (a, b) ∈ E means that user a voted on user b.  \n",
    "To make our questions clearer, we will use the following small graph as a running example:  \n",
    "> G_small = (V_small , E_small),  \n",
    "> where V_small = {1, 2, 3} and E_small = {(1, 2), (2, 1), (1, 3), (1, 1)}.  \n",
    "\n",
    "Compute and print out the following statistics for the wiki-Vote network:"
   ]
  },
  {
   "cell_type": "code",
   "execution_count": 98,
   "metadata": {},
   "outputs": [
    {
     "data": {
      "image/png": "[encoded data removed]",
      "text/plain": [
       "<Figure size 432x288 with 1 Axes>"
      ]
     },
     "metadata": {},
     "output_type": "display_data"
    }
   ],
   "source": [
    "#G-small:\n",
    "Gsmall = nx.DiGraph()\n",
    "Gsmall.add_edges_from([(1,2), (2,1), (1,3), (1,1)])\n",
    "Asmall = nx.to_numpy_matrix(Gsmall)\n",
    "\n",
    "nx.draw(Gsmall, with_labels=True)\n",
    "plt.show()"
   ]
  },
  {
   "cell_type": "code",
   "execution_count": 99,
   "metadata": {},
   "outputs": [],
   "source": [
    "G = nx.read_edgelist('data/wiki-Vote.txt', comments='#', delimiter='\\t', create_using=nx.DiGraph)\n",
    "A = nx.to_numpy_matrix(G)"
   ]
  },
  {
   "cell_type": "markdown",
   "metadata": {},
   "source": [
    "### The number of nodes in the network. (G_small has 3 nodes.)"
   ]
  },
  {
   "cell_type": "code",
   "execution_count": 100,
   "metadata": {},
   "outputs": [
    {
     "name": "stdout",
     "output_type": "stream",
     "text": [
      "G_small number of nodes: 3 \n",
      "G number of nodes: 7115\n"
     ]
    }
   ],
   "source": [
    "a = Gsmall.number_of_nodes()\n",
    "b = G.number_of_nodes()\n",
    "\n",
    "print(f'G_small number of nodes: {a} \\n'\n",
    "      f'G number of nodes: {b}')"
   ]
  },
  {
   "cell_type": "markdown",
   "metadata": {},
   "source": [
    "### The number of nodes with a self-edge (self-loop), i.e., the number of nodes a ∈ V where (a, a) ∈ E. (G small has 1 self-edge.)"
   ]
  },
  {
   "cell_type": "code",
   "execution_count": 101,
   "metadata": {},
   "outputs": [
    {
     "name": "stdout",
     "output_type": "stream",
     "text": [
      "G_small number of selfloops: 1 1.0 1.0 (calculated in 3 ways) \n",
      "G number of selfloops: 0 0.0 0.0 (calculated in 3 ways)\n"
     ]
    }
   ],
   "source": [
    "a1 = nx.number_of_selfloops(Gsmall)\n",
    "a2 = np.diagonal(Asmall).sum()\n",
    "a3 = np.trace(Asmall)\n",
    "b1 = nx.number_of_selfloops(G)\n",
    "b2 = np.diagonal(A).sum()\n",
    "b3 = np.trace(A)\n",
    "\n",
    "print('G_small number of selfloops:', a1,a2,a3, '(calculated in 3 ways)',\n",
    "      '\\nG number of selfloops:', b1,b2,b3, '(calculated in 3 ways)'\n",
    "     )"
   ]
  },
  {
   "cell_type": "markdown",
   "metadata": {},
   "source": [
    "### The number of directed edges in the network, i.e., the number of ordered pairs (a, b) ∈ E for which a a ≠ b. (G small has 3 directed edges.)"
   ]
  },
  {
   "cell_type": "code",
   "execution_count": 102,
   "metadata": {},
   "outputs": [
    {
     "name": "stdout",
     "output_type": "stream",
     "text": [
      "G_small number of directed edges: 3 3.0 (calculated in 2 ways) \n",
      "G number of directed edges: 103689 103689.0 (calculated in 2 ways)\n"
     ]
    }
   ],
   "source": [
    "a1 = Gsmall.number_of_edges() -  nx.number_of_selfloops(Gsmall)\n",
    "a2 = Asmall.sum() - np.trace(Asmall)\n",
    "b1 = G.number_of_edges() -  nx.number_of_selfloops(G)\n",
    "b2 = A.sum() - np.trace(A)\n",
    "\n",
    "print('G_small number of directed edges:', a1,a2, '(calculated in 2 ways)',\n",
    "      '\\nG number of directed edges:', b1,b2, '(calculated in 2 ways)'\n",
    "     )"
   ]
  },
  {
   "cell_type": "markdown",
   "metadata": {},
   "source": [
    "### The number of undirected edges in the network, i.e., the number of unique unordered pairs (a, b), a a ≠ b, for which (a, b) ∈ E or (b, a) ∈ E (or both). If both (a, b) and (b, a) are edges, this counts a single undirected edge. (G small has 2 undirected edges.)"
   ]
  },
  {
   "cell_type": "code",
   "execution_count": 103,
   "metadata": {},
   "outputs": [
    {
     "name": "stdout",
     "output_type": "stream",
     "text": [
      "G_small number of undirected edges: 2 \n",
      "G number of undirected edges: 100762\n"
     ]
    }
   ],
   "source": [
    "a1 = Gsmall.to_undirected().size()  - nx.number_of_selfloops(Gsmall)\n",
    "b1 = G.to_undirected().size()  - nx.number_of_selfloops(G)\n",
    "\n",
    "print('G_small number of undirected edges:', a1,\n",
    "      '\\nG number of undirected edges:', b1\n",
    "     )"
   ]
  },
  {
   "cell_type": "markdown",
   "metadata": {},
   "source": [
    "### The number of reciprocated edges in the network, i.e., the number of unique unordered pairs of nodes (a, b), a a ≠ b, for which (a, b) ∈ E and (b, a) ∈ E. (G small has 1 reciprocated edge.)"
   ]
  },
  {
   "cell_type": "code",
   "execution_count": 104,
   "metadata": {},
   "outputs": [
    {
     "name": "stdout",
     "output_type": "stream",
     "text": [
      "G_small number of reciprocated edges: 1.0 1 (calculated in 2 ways)\n",
      "G number of reciprocated edges: 2927.0 2927 (calculated in 2 ways)\n"
     ]
    }
   ],
   "source": [
    "def cnt_reciprocated_edges(G):\n",
    "\n",
    "    reciprocated_edges = 0\n",
    "\n",
    "    for (u, v) in G.edges():\n",
    "        if (v, u) in G.edges():\n",
    "            reciprocated_edges += 1\n",
    "\n",
    "    return (reciprocated_edges - nx.number_of_selfloops(G)) / 2\n",
    "\n",
    "a1 = cnt_reciprocated_edges(Gsmall)\n",
    "a2 = Gsmall.to_undirected(reciprocal=True).size() - nx.number_of_selfloops(Gsmall)\n",
    "b1 = cnt_reciprocated_edges(G)\n",
    "b2 = G.to_undirected(reciprocal=True).size() -  - nx.number_of_selfloops(G)\n",
    "\n",
    "print('G_small number of reciprocated edges:', a1, a2, '(calculated in 2 ways)'\n",
    "      '\\nG number of reciprocated edges:', b1, b2, '(calculated in 2 ways)'\n",
    "     )"
   ]
  },
  {
   "cell_type": "markdown",
   "metadata": {},
   "source": [
    "### The number of nodes of zero out-degree. (G small has 1 node with zero out-degree.)"
   ]
  },
  {
   "cell_type": "code",
   "execution_count": 105,
   "metadata": {},
   "outputs": [
    {
     "name": "stdout",
     "output_type": "stream",
     "text": [
      "G_small number of zero out-degree nodes: 1 \n",
      "G number of zero out-degree nodes: 1005\n"
     ]
    }
   ],
   "source": [
    "def cnt_zero_out_degree_nodes(G):\n",
    "    \n",
    "    A = nx.to_numpy_matrix(G)\n",
    "    zero_out_degree_nodes = 0\n",
    "    size_A = A.shape[0]\n",
    "\n",
    "    for i in range(size_A):\n",
    "        if A[i].sum() == 0:\n",
    "            zero_out_degree_nodes += 1\n",
    "\n",
    "    return zero_out_degree_nodes\n",
    "\n",
    "a1 = cnt_zero_out_degree_nodes(Gsmall)\n",
    "b1 = cnt_zero_out_degree_nodes(G)\n",
    "\n",
    "print('G_small number of zero out-degree nodes:', a1,\n",
    "      '\\nG number of zero out-degree nodes:', b1\n",
    "     )\n"
   ]
  },
  {
   "cell_type": "markdown",
   "metadata": {},
   "source": [
    "### The number of nodes of zero in-degree. (G small has 0 nodes with zero in-degree.)"
   ]
  },
  {
   "cell_type": "code",
   "execution_count": 106,
   "metadata": {},
   "outputs": [
    {
     "name": "stdout",
     "output_type": "stream",
     "text": [
      "G_small number of zero in-degree nodes: 0 \n",
      "G number of zero in-degree nodes: 4734\n"
     ]
    }
   ],
   "source": [
    "def cnt_zero_in_degree_nodes(G):\n",
    "\n",
    "    A = nx.to_numpy_matrix(G)\n",
    "    zero_in_degree_nodes = 0\n",
    "    size_A = A.shape[0]\n",
    "\n",
    "    for i in range(size_A):\n",
    "        if A[:,i].sum() == 0:\n",
    "            zero_in_degree_nodes += 1\n",
    "\n",
    "    return zero_in_degree_nodes\n",
    "\n",
    "a1 = cnt_zero_in_degree_nodes(Gsmall)\n",
    "b1 = cnt_zero_in_degree_nodes(G)\n",
    "\n",
    "print('G_small number of zero in-degree nodes:', a1,\n",
    "      '\\nG number of zero in-degree nodes:', b1\n",
    "     )"
   ]
  },
  {
   "cell_type": "markdown",
   "metadata": {},
   "source": [
    "### The number of nodes with more than 10 outgoing edges (out-degree > 10)."
   ]
  },
  {
   "cell_type": "code",
   "execution_count": 107,
   "metadata": {},
   "outputs": [
    {
     "name": "stdout",
     "output_type": "stream",
     "text": [
      "G_small number of nodes with more than 10 outgoing edges: 0 \n",
      "G number of nodes with more than 10 outgoing edges: 1612\n"
     ]
    }
   ],
   "source": [
    "def cnt_more_10_degree_nodes(G):\n",
    "\n",
    "    A = nx.to_numpy_matrix(G)\n",
    "    more_10_degree_nodes = 0\n",
    "    size_A = A.shape[0]\n",
    "\n",
    "    for i in range(size_A):\n",
    "        if A[i].sum() > 10:\n",
    "            more_10_degree_nodes += 1\n",
    "\n",
    "    return more_10_degree_nodes\n",
    "\n",
    "a1 = cnt_more_10_degree_nodes(Gsmall)\n",
    "b1 = cnt_more_10_degree_nodes(G)\n",
    "\n",
    "print('G_small number of nodes with more than 10 outgoing edges:', a1,\n",
    "      '\\nG number of nodes with more than 10 outgoing edges:', b1\n",
    "     )"
   ]
  },
  {
   "cell_type": "markdown",
   "metadata": {},
   "source": [
    "### The number of nodes with fewer than 10 incoming edges (in-degree < 10)."
   ]
  },
  {
   "cell_type": "code",
   "execution_count": 108,
   "metadata": {},
   "outputs": [
    {
     "name": "stdout",
     "output_type": "stream",
     "text": [
      "G_small number of nodes with fewer than 10 outgoing edges: 3 \n",
      "G number of nodes with fewer than 10 outgoing edges: 5165\n"
     ]
    }
   ],
   "source": [
    "def cnt_fewer_10_degree_nodes(G):\n",
    "    \n",
    "    A = nx.to_numpy_matrix(G)\n",
    "    fewer_10_degree_nodes = 0\n",
    "    size_A = A.shape[0]\n",
    "\n",
    "    for i in range(size_A):\n",
    "        if A[:,i].sum() < 10:\n",
    "            fewer_10_degree_nodes += 1\n",
    "\n",
    "    return fewer_10_degree_nodes\n",
    "\n",
    "a1 = cnt_fewer_10_degree_nodes(Gsmall)\n",
    "b1 = cnt_fewer_10_degree_nodes(G)\n",
    "\n",
    "print('G_small number of nodes with fewer than 10 outgoing edges:', a1,\n",
    "      '\\nG number of nodes with fewer than 10 outgoing edges:', b1\n",
    "     )"
   ]
  },
  {
   "cell_type": "markdown",
   "metadata": {},
   "source": [
    "# 2 Further Analyzing the Wikipedia voters network [33 points]\n",
    "\n",
    "For this problem, we use the Wikipedia voters network. If you are using Python, you might want to use NumPy, SciPy, and/or Matplotlib libraries."
   ]
  },
  {
   "cell_type": "markdown",
   "metadata": {},
   "source": [
    "### (18 points) Plot the distribution of out-degrees of nodes in the network on a log-log scale. Each data point is a pair (x, y) where x is a positive integer and y is the number of nodes in the network with out-degree equal to x. Restrict the range of x between the minimum and maximum out-degrees. You may filter out data points with a 0 entry. For the log-log scale, use base 10 for both x and y axes."
   ]
  },
  {
   "cell_type": "code",
   "execution_count": 109,
   "metadata": {},
   "outputs": [
    {
     "name": "stdout",
     "output_type": "stream",
     "text": [
      "Minimal out degree: 1.0 \n",
      "Maximum out degree: 893.0\n"
     ]
    }
   ],
   "source": [
    "out_degrees = []\n",
    "\n",
    "size_A = A.shape[0]\n",
    "\n",
    "for i in range(size_A):\n",
    "    out_degrees.append(A[i].sum())\n",
    "\n",
    "min_out_degrees = min(out_degrees) \n",
    "max_out_degrees = max(out_degrees)\n",
    "\n",
    "\n",
    "d = {}\n",
    "\n",
    "for i in range(size_A):\n",
    "    a = A[i].sum()\n",
    "    if a not in d:\n",
    "        d[a] = 1\n",
    "    else:\n",
    "        d[a] += 1\n",
    "\n",
    "del d[0]\n",
    "min_out_degrees = min(d.keys())\n",
    "max_out_degrees = max(d.keys())\n",
    "print('Minimal out degree:',min_out_degrees, \n",
    "      '\\nMaximum out degree:',max_out_degrees)"
   ]
  },
  {
   "cell_type": "code",
   "execution_count": 110,
   "metadata": {},
   "outputs": [
    {
     "data": {
      "image/png": "[encoded data removed]",
      "text/plain": [
       "<Figure size 720x360 with 1 Axes>"
      ]
     },
     "metadata": {
      "needs_background": "light"
     },
     "output_type": "display_data"
    }
   ],
   "source": [
    "values = list(d.keys())\n",
    "count = list(d.values())\n",
    "\n",
    "plt.figure(figsize=(10, 5))\n",
    "plt.plot(values, count, 'o')\n",
    "plt.scatter(values, count)\n",
    "plt.xlim([(min_out_degrees), (max_out_degrees)])\n",
    "plt.title('Degree plot')\n",
    "plt.xlabel('out-degree')\n",
    "plt.ylabel('count out-degree (Frequency)')\n",
    "plt.show()"
   ]
  },
  {
   "cell_type": "code",
   "execution_count": 111,
   "metadata": {},
   "outputs": [
    {
     "data": {
      "image/png": "[encoded data removed]",
      "text/plain": [
       "<Figure size 720x360 with 1 Axes>"
      ]
     },
     "metadata": {
      "needs_background": "light"
     },
     "output_type": "display_data"
    }
   ],
   "source": [
    "plt.figure(figsize=(10, 5))\n",
    "plt.plot(np.log10(values), np.log10(count), 'o')\n",
    "plt.scatter(np.log10(values), np.log10(count))\n",
    "plt.xlim([np.log10(min_out_degrees), np.log10(max_out_degrees)])\n",
    "plt.title('Degree plot')\n",
    "plt.xlabel('log10 out-degree')\n",
    "plt.ylabel('log10 count out-degree (Frequency)')\n",
    "plt.show()"
   ]
  },
  {
   "cell_type": "markdown",
   "metadata": {},
   "source": [
    "### (15 points) Compute and plot the least-square regression line for the out-degree distribution in the log-log scale plot. Note we want to find coefficients a and b such that the function log 10 y = a · log 10 x + b, equivalently, y = 10 b · x a , best fits the out-degree distribution. What are the coefficients a and b? For this part, you might want to use the method called polyfit in NumPy with deg parameter equal to 1."
   ]
  },
  {
   "cell_type": "code",
   "execution_count": 112,
   "metadata": {},
   "outputs": [
    {
     "data": {
      "text/latex": [
       "$x \\mapsto \\text{1.2423388766647032} - \\text{1.8901158278352082}\\,\\left(\\text{-1.0} + \\text{0.677770476712952}x\\right)$"
      ],
      "text/plain": [
       "Polynomial([ 1.24233888, -1.89011583], domain=[0.        , 2.95085146], window=[-1.,  1.])"
      ]
     },
     "execution_count": 112,
     "metadata": {},
     "output_type": "execute_result"
    }
   ],
   "source": [
    "from numpy.polynomial import Polynomial\n",
    "\n",
    "x = np.log10(values)\n",
    "y = np.log10(count)\n",
    "\n",
    "regression = Polynomial.fit(x, y, deg=1)\n",
    "regression"
   ]
  },
  {
   "cell_type": "code",
   "execution_count": 113,
   "metadata": {},
   "outputs": [
    {
     "data": {
      "image/png": "[encoded data removed]",
      "text/plain": [
       "<Figure size 720x360 with 1 Axes>"
      ]
     },
     "metadata": {
      "needs_background": "light"
     },
     "output_type": "display_data"
    }
   ],
   "source": [
    "plt.figure(figsize=(10, 5))\n",
    "plt.plot(x, y, 'o')\n",
    "predicts = regression(x)\n",
    "plt.plot(x, predicts)\n",
    "plt.scatter(x, y)\n",
    "plt.xlim([np.log10(min_out_degrees), np.log10(max_out_degrees)])\n",
    "plt.title('Degree plot with fitted polinomial regression')\n",
    "plt.xlabel('log10 out-degree')\n",
    "plt.ylabel('log10 count out-degree (Frequency)')\n",
    "plt.show()"
   ]
  },
  {
   "cell_type": "markdown",
   "metadata": {},
   "source": [
    "# 3 Finding Experts on the Java Programming Language on StackOverflow [40 points]\n",
    "\n",
    "Download the StackOverflow network stackoverflow-Java.txt.gz: http://snap.stanford.edu/class/cs224w-data/hw0/stackoverflow-Java.txt.gz. An edge (a, b) in the network means that person a endorsed an answer from person b on a Java-related question. Using one of the network analysis tools above, load the StackOverflow network. Note that StackOverflow is a directed network. Compute and print out the following statistics for the stackoverflow-Java network:"
   ]
  },
  {
   "cell_type": "code",
   "execution_count": 114,
   "metadata": {},
   "outputs": [],
   "source": [
    "G = nx.read_edgelist('data/stackoverflow-Java.txt', comments='#', delimiter='\\t', create_using=nx.DiGraph)"
   ]
  },
  {
   "cell_type": "markdown",
   "metadata": {},
   "source": [
    "### The number of weakly connected components in the network. This value can be calculated in Snap.py via function GetWccs."
   ]
  },
  {
   "cell_type": "code",
   "execution_count": 115,
   "metadata": {},
   "outputs": [
    {
     "name": "stdout",
     "output_type": "stream",
     "text": [
      "Number of weakly connected components: 10143\n"
     ]
    }
   ],
   "source": [
    "a = len(list(nx.weakly_connected_components(G)))\n",
    "print('Number of weakly connected components:', a)"
   ]
  },
  {
   "cell_type": "markdown",
   "metadata": {},
   "source": [
    "### The number of edges and the number of nodes in the largest weakly connected component. The largest weakly connected component is calculated in Snap.py with function GetMxWcc."
   ]
  },
  {
   "cell_type": "code",
   "execution_count": 116,
   "metadata": {},
   "outputs": [
    {
     "name": "stdout",
     "output_type": "stream",
     "text": [
      "Number of nodes in the largest WCC: 131188\n",
      "Number of edges in the largest WCC: 322486\n"
     ]
    }
   ],
   "source": [
    "#smallest_cc = min(nx.weakly_connected_components(G), key=len)\n",
    "largest_cc = max(nx.weakly_connected_components(G), key=len)\n",
    "print('Number of nodes in the largest WCC:', len(largest_cc))\n",
    "H = G.subgraph(largest_cc)\n",
    "print('Number of edges in the largest WCC:', H.number_of_edges())"
   ]
  },
  {
   "cell_type": "markdown",
   "metadata": {},
   "source": [
    "### IDs of the top 3 most central nodes in the network by PagePank scores. PageRank scores are calculated in Snap.py with function GetPageRank."
   ]
  },
  {
   "cell_type": "code",
   "execution_count": 117,
   "metadata": {},
   "outputs": [
    {
     "name": "stdout",
     "output_type": "stream",
     "text": [
      "IDs of the top 3 most central nodes by PageRank scores: ['992484', '22656', '139985']\n"
     ]
    }
   ],
   "source": [
    "pr = nx.pagerank(G)\n",
    "\n",
    "print('IDs of the top 3 most central nodes by PageRank scores:', sorted(pr, key=pr.get, reverse=True)[:3])"
   ]
  },
  {
   "cell_type": "markdown",
   "metadata": {},
   "source": [
    "### IDs of the top 3 hubs and top 3 authorities in the network by HITS scores."
   ]
  },
  {
   "cell_type": "code",
   "execution_count": 118,
   "metadata": {},
   "outputs": [
    {
     "name": "stderr",
     "output_type": "stream",
     "text": [
      "/Users/avshoyko/.pyenv/versions/3.10.3/envs/graph-ipynb/lib/python3.10/site-packages/networkx/algorithms/link_analysis/hits_alg.py:78: FutureWarning: adjacency_matrix will return a scipy.sparse array instead of a matrix in Networkx 3.0.\n",
      "  A = nx.adjacency_matrix(G, nodelist=list(G), dtype=float)\n"
     ]
    },
    {
     "name": "stdout",
     "output_type": "stream",
     "text": [
      "IDs of the top 3 hubs by HITS scores: ['892029', '1194415', '359862']\n",
      "IDs of the top 3 authorities by HITS scores: ['22656', '157882', '571407']\n"
     ]
    }
   ],
   "source": [
    "h = nx.hits(G)\n",
    "hubs = h[0]\n",
    "authorities = h[1]\n",
    "\n",
    "print('IDs of the top 3 hubs by HITS scores:', sorted(hubs, key=hubs.get, reverse=True)[:3])\n",
    "print('IDs of the top 3 authorities by HITS scores:', sorted(authorities, key=authorities.get, reverse=True)[:3])"
   ]
  }
 ],
 "metadata": {
  "interpreter": {
   "hash": "963496e8aaf521e3fc8b1dd9015c4674866be49187452e1cd278ede54c5d2c97"
  },
  "kernelspec": {
   "display_name": "Python 3.10.3 64-bit ('graph-ipynb')",
   "language": "python",
   "name": "python3"
  },
  "language_info": {
   "codemirror_mode": {
    "name": "ipython",
    "version": 3
   },
   "file_extension": ".py",
   "mimetype": "text/x-python",
   "name": "python",
   "nbconvert_exporter": "python",
   "pygments_lexer": "ipython3",
   "version": "3.10.3"
  },
  "orig_nbformat": 4
 },
 "nbformat": 4,
 "nbformat_minor": 2
}
