{
 "cells": [
  {
   "cell_type": "code",
   "execution_count": 42,
   "metadata": {},
   "outputs": [],
   "source": [
    "import os\n",
    "import matplotlib.pyplot as plt\n",
    "import networkx as nx\n",
    "import numpy as np\n",
    "from random import choice\n",
    "from collections import defaultdict"
   ]
  },
  {
   "cell_type": "markdown",
   "metadata": {},
   "source": [
    "# 1. Network characteristics"
   ]
  },
  {
   "cell_type": "markdown",
   "metadata": {},
   "source": [
    "## Write code for Erdos-Renyi and Small World (Watts-Strogaz) models, make loglog degree plots for them and for academic coauthotship real dataset [12 points]\n",
    "\n",
    "Generate a random graph from both the Erdős-Rényi (i.e., G(n, m)) and Small-World models and read in the collaboration network. Delete all of the self-edges in the collaboration network (there should be 14,484 total edges remaining). Plot the degree distribution of all three networks in the same plot on a log-log scale. In other words, generate a plot with the horizontal axis representing node degrees and the vertical axis representing the proportion of nodes with a given degree (by “log-log scale” we mean that both the horizontal and vertical axis must be in logarithmic scale). In one to two sentences, describe one key difference between the degree distribution of the collaboration network and the degree distributions of the random graph models.\n",
    "\n",
    "What to submit Page 1:\n",
    "Log-log degree distribution plot for all three networks (in same plot)"
   ]
  },
  {
   "cell_type": "markdown",
   "metadata": {},
   "source": [
    "### Erdos-Renyi Random graph (G(n;m) random network):\n",
    "Generate a random instance of this model by using n = 5242 nodes and picking m = 14484 edges at random. Write code to construct instances of this model, i.e., do not call a SNAP function.\n",
    "\n"
   ]
  },
  {
   "cell_type": "code",
   "execution_count": 2,
   "metadata": {},
   "outputs": [],
   "source": [
    "erdosRenyi = None\n",
    "smallWorld = None\n",
    "collabNet = None\n",
    "\n",
    "\n",
    "def genErdosRenyi(N=5242, M=14484):\n",
    "    \"\"\"\n",
    "    :param - N: number of nodes\n",
    "    :param - M: number of edges\n",
    "\n",
    "    return: Erdos-Renyi graph with N nodes and E edges\n",
    "    \"\"\"\n",
    "    \n",
    "    G = nx.Graph()\n",
    "    G.add_nodes_from(range(N))\n",
    "    \n",
    "    edge_set = set()\n",
    "    while True:\n",
    "        n1, n2 = choice(range(N)), choice(range(N))\n",
    "        if n1 == n2:\n",
    "            continue\n",
    "        if (n1, n2) not in edge_set and (n2, n1) not in edge_set:\n",
    "            edge_set.add((n1, n2))\n",
    "        if len(edge_set) == M:\n",
    "            break\n",
    "        \n",
    "    G.add_edges_from((edge_set))\n",
    "\n",
    "    return G"
   ]
  },
  {
   "cell_type": "code",
   "execution_count": 3,
   "metadata": {},
   "outputs": [],
   "source": [
    "G = genErdosRenyi(5242, 14484)"
   ]
  },
  {
   "cell_type": "code",
   "execution_count": 4,
   "metadata": {},
   "outputs": [
    {
     "data": {
      "text/plain": [
       "(5242, 14484)"
      ]
     },
     "execution_count": 4,
     "metadata": {},
     "output_type": "execute_result"
    }
   ],
   "source": [
    "G.number_of_nodes(), G.number_of_edges() "
   ]
  },
  {
   "cell_type": "markdown",
   "metadata": {},
   "source": [
    "### Small-World Random Network: \n",
    "Generate an instance from this model as follows: begin with n = 5242 nodes arranged as a ring, i.e., imagine the nodes form a circle and each node is connected to its two direct neighbors (e.g., node 399 is connected to nodes 398 and 400), giving us 5242 edges. Next, connect each node to the neighbors of its neighbors (e.g., node 399 is also connected to nodes 397 and 401). This gives us another 5242 edges. Finally, randomly select 4000 pairs of nodes not yet connected and add an edge between them. In total, this will make m = 5242 \u0001 2+4000 = 14484"
   ]
  },
  {
   "cell_type": "code",
   "execution_count": 5,
   "metadata": {},
   "outputs": [],
   "source": [
    "def genCircle(N=5242):\n",
    "    \"\"\"\n",
    "    :param - N: number of nodes\n",
    "\n",
    "    return: Circle graph with N nodes and N edges. Imagine the nodes form a\n",
    "        circle and each node is connected to its two direct neighbors.\n",
    "    \"\"\"\n",
    "    G = nx.Graph()\n",
    "    G.add_nodes_from(range(N))\n",
    "    \n",
    "    edge_set = set()\n",
    "    node = 0\n",
    "    for node in range(N - 1):\n",
    "        edge_set.add((node, node + 1))\n",
    "            \n",
    "    edge_set.add((N - 1,0))\n",
    "\n",
    "    G.add_edges_from((edge_set))\n",
    "\n",
    "    return G"
   ]
  },
  {
   "cell_type": "code",
   "execution_count": 6,
   "metadata": {},
   "outputs": [
    {
     "data": {
      "text/plain": [
       "10"
      ]
     },
     "execution_count": 6,
     "metadata": {},
     "output_type": "execute_result"
    }
   ],
   "source": [
    "x = 10\n",
    "\n",
    "G1 = genCircle(x)\n",
    "G1.number_of_edges()"
   ]
  },
  {
   "cell_type": "code",
   "execution_count": 7,
   "metadata": {},
   "outputs": [
    {
     "ename": "NameError",
     "evalue": "name 'connectNbrOfNbr' is not defined",
     "output_type": "error",
     "traceback": [
      "\u001b[0;31m---------------------------------------------------------------------------\u001b[0m",
      "\u001b[0;31mNameError\u001b[0m                                 Traceback (most recent call last)",
      "\u001b[1;32m/Users/avshoyko/Documents/Projects/cs224w_2019_hw/hw1/hw1_solution.ipynb Cell 10'\u001b[0m in \u001b[0;36m<cell line: 2>\u001b[0;34m()\u001b[0m\n\u001b[1;32m      <a href='vscode-notebook-cell:/Users/avshoyko/Documents/Projects/cs224w_2019_hw/hw1/hw1_solution.ipynb#ch0000014?line=0'>1</a>\u001b[0m G1 \u001b[39m=\u001b[39m genCircle(x)\n\u001b[0;32m----> <a href='vscode-notebook-cell:/Users/avshoyko/Documents/Projects/cs224w_2019_hw/hw1/hw1_solution.ipynb#ch0000014?line=1'>2</a>\u001b[0m G2 \u001b[39m=\u001b[39m connectNbrOfNbr(G1, x)\n\u001b[1;32m      <a href='vscode-notebook-cell:/Users/avshoyko/Documents/Projects/cs224w_2019_hw/hw1/hw1_solution.ipynb#ch0000014?line=3'>4</a>\u001b[0m G1\u001b[39m.\u001b[39mnumber_of_edges(), G2\u001b[39m.\u001b[39mnumber_of_edges()\n",
      "\u001b[0;31mNameError\u001b[0m: name 'connectNbrOfNbr' is not defined"
     ]
    }
   ],
   "source": [
    "G1 = genCircle(x)\n",
    "G2 = connectNbrOfNbr(G1, x)\n",
    "\n",
    "G1.number_of_edges(), G2.number_of_edges()"
   ]
  },
  {
   "cell_type": "code",
   "execution_count": 8,
   "metadata": {},
   "outputs": [],
   "source": [
    "def connectNbrOfNbr(G, N=5242):\n",
    "    \"\"\"\n",
    "    :param - G\n",
    "    :param - N: number of nodes\n",
    "\n",
    "    return: Graph object with additional N edges added by connecting each node\n",
    "        to the neighbors of its neighbors\n",
    "    \"\"\"\n",
    "    G = G.copy()\n",
    "    \n",
    "    edge_set = set(G.edges)\n",
    "    node = 0\n",
    "    for node in range(1, N - 1):\n",
    "        edge_set.add((node - 1, node + 1))\n",
    "            \n",
    "    edge_set.add((0, N - 2))\n",
    "    edge_set.add((1, N - 1))\n",
    "    \n",
    "    G.add_edges_from((edge_set))\n",
    "    \n",
    "    return G"
   ]
  },
  {
   "cell_type": "code",
   "execution_count": 9,
   "metadata": {},
   "outputs": [],
   "source": [
    "def connectRandomNodes(G, M):\n",
    "    \"\"\"\n",
    "    :param - M: number of edges to be added\n",
    "\n",
    "    return: Graph object with additional M edges added by connecting M randomly\n",
    "        selected pairs of nodes not already connected.\n",
    "    \"\"\"\n",
    "\n",
    "    G = G.copy()\n",
    "    N = G.number_of_nodes()\n",
    "    \n",
    "    edge_set = set(G.edges)\n",
    "    \n",
    "    i = 0\n",
    "    \n",
    "    while True:\n",
    "        n1, n2 = choice(range(N)), choice(range(N))\n",
    "        if n1 == n2:\n",
    "            continue\n",
    "        if (n1, n2) not in edge_set and (n2, n1) not in edge_set:\n",
    "            edge_set.add((n1, n2))\n",
    "            i += 1\n",
    "        if i == M:\n",
    "            break\n",
    "        \n",
    "    G.add_edges_from((edge_set))\n",
    "    \n",
    "    return G"
   ]
  },
  {
   "cell_type": "code",
   "execution_count": 10,
   "metadata": {},
   "outputs": [
    {
     "data": {
      "text/plain": [
       "(5242, 10484, 14484)"
      ]
     },
     "execution_count": 10,
     "metadata": {},
     "output_type": "execute_result"
    }
   ],
   "source": [
    "x = 5242\n",
    "y = 4000\n",
    "\n",
    "G1 = genCircle(x)\n",
    "G2 = connectNbrOfNbr(G1, x)\n",
    "G3 = connectRandomNodes(G2, y)\n",
    "a = G2.number_of_nodes()\n",
    "\n",
    "G1.number_of_edges(), G2.number_of_edges(), G3.number_of_edges()"
   ]
  },
  {
   "cell_type": "code",
   "execution_count": 11,
   "metadata": {},
   "outputs": [],
   "source": [
    "def genSmallWorld(N, E):\n",
    "    \"\"\"\n",
    "    :param - N: number of nodes\n",
    "    :param - M: number of edges\n",
    "\n",
    "    return type: snap.PUNGraph\n",
    "    return: Small-World graph with N nodes and E edges\n",
    "    \"\"\"\n",
    "    G = genCircle(N)\n",
    "    G = connectNbrOfNbr(G, N)\n",
    "    \n",
    "    #G.number_of_edges() + \n",
    "    \n",
    "    y = E - G.number_of_edges()\n",
    "    \n",
    "    G = connectRandomNodes(G, y)\n",
    "    return G"
   ]
  },
  {
   "cell_type": "code",
   "execution_count": 12,
   "metadata": {},
   "outputs": [
    {
     "data": {
      "text/plain": [
       "(14484, 5242)"
      ]
     },
     "execution_count": 12,
     "metadata": {},
     "output_type": "execute_result"
    }
   ],
   "source": [
    "G = genSmallWorld(5242, 14484)\n",
    "G.number_of_edges(), G.number_of_nodes()"
   ]
  },
  {
   "cell_type": "markdown",
   "metadata": {},
   "source": [
    "### Real-World Collaboration Network:\n",
    "Download this undirected network from http://snap.stanford.edu/data/ca-GrQc.txt.gz. Nodes in this network represent authors of research papers on the arXiv in the General Relativity and Quantum Cosmology section. There is an edge between two authors if they have co-authored at least one paper together. Note that some edges may appear twice in the data, once for each direction. Ignoring repeats and self-edges, there are 5242 nodes and 14484 edges. (Note: Repeats are automatically ignored when loading an (un)directed graph with SNAP's LoadEdgeList function)."
   ]
  },
  {
   "cell_type": "code",
   "execution_count": 14,
   "metadata": {},
   "outputs": [
    {
     "data": {
      "text/plain": [
       "(14484, 5242)"
      ]
     },
     "execution_count": 14,
     "metadata": {},
     "output_type": "execute_result"
    }
   ],
   "source": [
    "CN_G = nx.read_edgelist('data/ca-GrQc.txt', comments='#', delimiter='\\t', create_using=nx.Graph)\n",
    "CN_G.remove_edges_from(nx.selfloop_edges(CN_G))\n",
    "CN_G.number_of_edges(), CN_G.number_of_nodes()"
   ]
  },
  {
   "cell_type": "markdown",
   "metadata": {},
   "source": [
    "## Degree Distribution [12 points]\n",
    "Generate a random graph from both the Erd}os-R\u0013enyi (i.e., G(n;m)) and Small-World models and read in the collaboration network. Delete all of the self-edges in the collaboration network (there should be 14,484 total edges remaining).\n",
    "\n",
    "Plot the degree distribution of all three networks in the same plot on a log-log scale. In other words, generate a plot with the horizontal axis representing node degrees and the vertical axis representing the proportion of nodes with a given degree (by \\log-log scale\" we mean that both the horizontal and vertical axis must be in logarithmic scale). In one to two sentences, describe one key di\u000berence between the degree distribution of the collaboration network and the degree distributions of the random graph models.\n",
    "\n"
   ]
  },
  {
   "cell_type": "code",
   "execution_count": 15,
   "metadata": {},
   "outputs": [],
   "source": [
    "ER_G = genErdosRenyi(5242, 14484)\n",
    "SW_G = genSmallWorld(5242, 14484)\n",
    "#CN_G = "
   ]
  },
  {
   "cell_type": "code",
   "execution_count": 16,
   "metadata": {},
   "outputs": [
    {
     "data": {
      "text/plain": [
       "Counter({17: 1,\n",
       "         16: 2,\n",
       "         15: 3,\n",
       "         14: 9,\n",
       "         13: 16,\n",
       "         12: 31,\n",
       "         11: 75,\n",
       "         10: 149,\n",
       "         9: 274,\n",
       "         8: 439,\n",
       "         7: 630,\n",
       "         6: 839,\n",
       "         5: 944,\n",
       "         4: 812,\n",
       "         3: 582,\n",
       "         2: 301,\n",
       "         1: 115,\n",
       "         0: 20})"
      ]
     },
     "execution_count": 16,
     "metadata": {},
     "output_type": "execute_result"
    }
   ],
   "source": [
    "#list(ER_G.degree())\n",
    "import collections\n",
    "degree_sequence = sorted([d for n, d in ER_G.degree()], reverse=True)\n",
    "degree_sequence\n",
    "degreeCount = collections.Counter(degree_sequence)\n",
    "#deg, cnt = zip(*degreeCount.items())\n",
    "degreeCount"
   ]
  },
  {
   "cell_type": "code",
   "execution_count": 17,
   "metadata": {},
   "outputs": [
    {
     "data": {
      "image/png": "[encoded data removed]",
      "text/plain": [
       "<Figure size 1440x720 with 6 Axes>"
      ]
     },
     "metadata": {},
     "output_type": "display_data"
    }
   ],
   "source": [
    "import collections\n",
    "\n",
    "plt.style.use('ggplot')\n",
    "fig = plt.figure(figsize = (20,10))\n",
    "plt.suptitle('Degree Distribution of Erdos Renyi, Small World, and Collaboration Networks')\n",
    "\n",
    "#for i,graph_type in enumerate(['ErdosRenyi','SmallWorld','CoathorsArxivGrQc']):\n",
    "for graph_type in ['ErdosRenyi','SmallWorld','CoathorsArxivGrQc']:\n",
    "    if graph_type == 'ErdosRenyi':\n",
    "        G = genErdosRenyi(5242,14484)\n",
    "    if graph_type == 'SmallWorld':\n",
    "        G =  genSmallWorld(5242, 14484)\n",
    "    if graph_type == 'CoathorsArxivGrQc':\n",
    "        G = CN_G\n",
    "        \n",
    "\n",
    "#     degree_list = list(G.degree())\n",
    "#     list_degs = []\n",
    "#     list_counts = []\n",
    "#     for i,j in degree_list:\n",
    "#         list_degs.append(int(i))\n",
    "#         list_counts.append(j)\n",
    "        \n",
    "    degree_sequence = sorted([d for n, d in G.degree()], reverse=True)  # degree sequence\n",
    "    degreeCount = collections.Counter(degree_sequence)\n",
    "    deg, cnt = zip(*degreeCount.items())\n",
    "    \n",
    "    \n",
    "\n",
    "    fig.add_subplot(1,2,1)\n",
    "    plt.loglog(deg, cnt, linestyle = 'dotted',  label = graph_type)\n",
    "    plt.xlabel('Node Degree (log)')\n",
    "    plt.ylabel('Proportion of Nodes with a Given Degree (log)')\n",
    "    plt.title('loglog plot')\n",
    "    plt.legend()\n",
    "\n",
    "    fig.add_subplot(1,2,2)\n",
    "    plt.plot(deg, cnt, linestyle = 'dotted', label = graph_type)\n",
    "    plt.xlabel('Node Degree')\n",
    "    plt.ylabel('Proportion of Nodes with a Given Degree')\n",
    "    plt.title('NOT loglog plot')\n",
    "    plt.legend()\n",
    "plt.show()"
   ]
  },
  {
   "cell_type": "markdown",
   "metadata": {},
   "source": [
    "## Clustering Coefficient [13 points]\n",
    "What to submit: Average clustering coefficient for each network. Network that has the largest average clustering coefficient. One to two sentences explaining why this network has the largest average clustering coefficient."
   ]
  },
  {
   "cell_type": "code",
   "execution_count": 18,
   "metadata": {},
   "outputs": [
    {
     "data": {
      "text/plain": [
       "4"
      ]
     },
     "execution_count": 18,
     "metadata": {},
     "output_type": "execute_result"
    }
   ],
   "source": [
    "SW_G.degree(2) - 1 "
   ]
  },
  {
   "cell_type": "code",
   "execution_count": 19,
   "metadata": {},
   "outputs": [
    {
     "data": {
      "text/plain": [
       "48"
      ]
     },
     "execution_count": 19,
     "metadata": {},
     "output_type": "execute_result"
    }
   ],
   "source": [
    "2* len(list(SW_G.edges(list(SW_G.neighbors(2)))))\n"
   ]
  },
  {
   "cell_type": "code",
   "execution_count": 20,
   "metadata": {},
   "outputs": [
    {
     "data": {
      "text/plain": [
       "2.1333333333333333"
      ]
     },
     "execution_count": 20,
     "metadata": {},
     "output_type": "execute_result"
    }
   ],
   "source": [
    "64/30\n"
   ]
  },
  {
   "cell_type": "code",
   "execution_count": 21,
   "metadata": {},
   "outputs": [],
   "source": [
    "def calcClusteringCoefficientSingleNode(Node, G):\n",
    "    \"\"\"\n",
    "    :param - Node:\n",
    "    :param - Graph:\n",
    "\n",
    "    return type: float\n",
    "    returns: local clustering coeffient of Node\n",
    "    \"\"\"\n",
    "    #G = G.copy()\n",
    "    C = 0.0\n",
    "    \n",
    "    node_degree = G.degree(Node)\n",
    "    neighbors_nodes = list(G.neighbors(Node))\n",
    "    count_neighbors_edge = 0\n",
    "    \n",
    "    if node_degree < 2:\n",
    "        C = 0.0\n",
    "    else: \n",
    "        for edge in list(G.edges(neighbors_nodes)):\n",
    "            if edge[0] in neighbors_nodes and edge[1] in neighbors_nodes:\n",
    "                count_neighbors_edge += 1\n",
    "        C = (2 * count_neighbors_edge) / (node_degree * (node_degree - 1))\n",
    "    \n",
    "    \n",
    "    return C"
   ]
  },
  {
   "cell_type": "code",
   "execution_count": 22,
   "metadata": {},
   "outputs": [
    {
     "data": {
      "text/plain": [
       "[0, 1, 3, 4, 3831]"
      ]
     },
     "execution_count": 22,
     "metadata": {},
     "output_type": "execute_result"
    }
   ],
   "source": [
    "    node_degree = SW_G.degree(2)\n",
    "    neighbors_nodes = list(SW_G.neighbors(2))\n",
    "    #node_degree, neighbors_nodes, node_degree * (node_degree - 1), SW_G.edges(neighbors_nodes), calcClusteringCoefficientSingleNode(2, SW_G)\n",
    "        \n",
    "    neighbors_nodes\n",
    "    \n",
    "#     for edge in list(SW_G.edges(neighbors_nodes)):\n",
    "#         if edge[0] in neighbors_nodes and edge[1] in neighbors_nodes:\n",
    "#             print(edge[0], edge[1])"
   ]
  },
  {
   "cell_type": "code",
   "execution_count": 23,
   "metadata": {},
   "outputs": [
    {
     "name": "stdout",
     "output_type": "stream",
     "text": [
      "1492.298340548319\n"
     ]
    }
   ],
   "source": [
    "C = 0.0\n",
    "\n",
    "for i in SW_G.nodes:\n",
    "    C += calcClusteringCoefficientSingleNode(i, SW_G)\n",
    "\n",
    "print(C)"
   ]
  },
  {
   "cell_type": "code",
   "execution_count": 24,
   "metadata": {},
   "outputs": [
    {
     "data": {
      "text/plain": [
       "0.3"
      ]
     },
     "execution_count": 24,
     "metadata": {},
     "output_type": "execute_result"
    }
   ],
   "source": [
    "calcClusteringCoefficientSingleNode(2, SW_G)"
   ]
  },
  {
   "cell_type": "code",
   "execution_count": 25,
   "metadata": {},
   "outputs": [],
   "source": [
    "def calcClusteringCoefficient(G):\n",
    "    \"\"\"\n",
    "    :param - Graph:\n",
    "\n",
    "    return type: float\n",
    "    returns: clustering coefficient of Graph\n",
    "    \"\"\"\n",
    "\n",
    "    C = 0.0\n",
    "\n",
    "    for node in G.nodes:\n",
    "        C += calcClusteringCoefficientSingleNode(node, G)\n",
    "    \n",
    "    C = (C / G.number_of_nodes())\n",
    "    \n",
    "    return C"
   ]
  },
  {
   "cell_type": "code",
   "execution_count": 26,
   "metadata": {},
   "outputs": [
    {
     "name": "stdout",
     "output_type": "stream",
     "text": [
      "average clustering ER: 0.0014061153988662574 built-in: 0.0014061153988662574 \n",
      "average clustering SW: 0.28468110273718406 built-in: 0.28468110273718406 \n",
      "average clustering CN: 0.529635811052136 built-in: 0.529635811052136\n"
     ]
    }
   ],
   "source": [
    "print('average clustering ER:', calcClusteringCoefficient(ER_G),'built-in:', nx.average_clustering(ER_G),\n",
    "      '\\naverage clustering SW:', calcClusteringCoefficient(SW_G),'built-in:', nx.average_clustering(SW_G),\n",
    "      '\\naverage clustering CN:', calcClusteringCoefficient(CN_G),'built-in:', nx.average_clustering(CN_G))"
   ]
  },
  {
   "cell_type": "markdown",
   "metadata": {},
   "source": [
    "# Structural Roles: Rolx and ReFex [25 points]"
   ]
  },
  {
   "cell_type": "markdown",
   "metadata": {},
   "source": [
    "## Basic Features [5 points]\n",
    "\n",
    "We begin by loading the graph G provided in the bundle and computing three basic features for\n",
    "the nodes. For each node v, we choose 3 basic local features (in this order):\n",
    "1. the degree of v, i.e., deg(v);\n",
    "2. the number of edges in the egonet of v, where egonet of v is defined as the subgraph of G\n",
    "induced by v and its neighborhood;\n",
    "3. the number of edges that connect the egonet of v and the rest of the graph, i.e., the number\n",
    "of edges that enter or leave the egonet of v.\n",
    "We use  ̃Vu to represent the vector of the basic features of node u. For any pair of nodes u and v, we\n",
    "can use cosine similarity to measure how similar two nodes are according to their feature vectors x\n",
    "and y:\n",
    "Sim(x,y) = x ·y\n",
    "||x||2 ·||y||2\n",
    "=\n",
    "∑\n",
    "i xiyi√∑\n",
    "i x2i ·\n",
    "√∑\n",
    "i y2i\n",
    ";\n",
    "Also, when ||x||2 = 0 or ||y||2 = 0, we defined Sim(x,y) = 0.\n",
    "\n",
    "\n",
    "Compute the basic feature vector for the node with ID 9, and report the top 5 nodes that are most\n",
    "similar to node 9 (excluding node 9). As a sanity check, no element in  ̃V9 is larger than 10."
   ]
  },
  {
   "cell_type": "code",
   "execution_count": 30,
   "metadata": {},
   "outputs": [
    {
     "ename": "NameError",
     "evalue": "name 'sci_G' is not defined",
     "output_type": "error",
     "traceback": [
      "\u001b[0;31m---------------------------------------------------------------------------\u001b[0m",
      "\u001b[0;31mNameError\u001b[0m                                 Traceback (most recent call last)",
      "\u001b[1;32m/Users/avshoyko/Documents/Projects/cs224w_2019_hw/hw1/hw1_solution.ipynb Cell 35'\u001b[0m in \u001b[0;36m<cell line: 3>\u001b[0;34m()\u001b[0m\n\u001b[1;32m      <a href='vscode-notebook-cell:/Users/avshoyko/Documents/Projects/cs224w_2019_hw/hw1/hw1_solution.ipynb#ch0000051?line=0'>1</a>\u001b[0m sG \u001b[39m=\u001b[39m nx\u001b[39m.\u001b[39mread_gml(\u001b[39m'\u001b[39m\u001b[39mdata/netscience.gml\u001b[39m\u001b[39m'\u001b[39m, label\u001b[39m=\u001b[39m\u001b[39m'\u001b[39m\u001b[39mid\u001b[39m\u001b[39m'\u001b[39m)\n\u001b[0;32m----> <a href='vscode-notebook-cell:/Users/avshoyko/Documents/Projects/cs224w_2019_hw/hw1/hw1_solution.ipynb#ch0000051?line=2'>3</a>\u001b[0m sG\u001b[39m.\u001b[39mnumber_of_edges(), sci_G\u001b[39m.\u001b[39mnumber_of_nodes()\n",
      "\u001b[0;31mNameError\u001b[0m: name 'sci_G' is not defined"
     ]
    }
   ],
   "source": [
    "sG = nx.read_gml('data/netscience.gml', label='id')\n",
    "\n",
    "sG.number_of_edges(), sci_G.number_of_nodes()"
   ]
  },
  {
   "cell_type": "code",
   "execution_count": 31,
   "metadata": {},
   "outputs": [
    {
     "data": {
      "text/plain": [
       "(networkx.classes.graph.Graph, <networkx.classes.graph.Graph at 0x1343978e0>)"
      ]
     },
     "execution_count": 31,
     "metadata": {},
     "output_type": "execute_result"
    }
   ],
   "source": [
    "type(sG), sG#, sG.edges()"
   ]
  },
  {
   "cell_type": "code",
   "execution_count": 32,
   "metadata": {},
   "outputs": [],
   "source": [
    "def getBasicFeaturesNode(Node, G):\n",
    "    \"\"\"\n",
    "    :param - Node:\n",
    "    :param - Graph:\n",
    "    \n",
    "    Calculate three basic features for input node v\n",
    "    1. degree of v\n",
    "    2. number of edges in the egonet of node v\n",
    "       here we have to iterate every node\n",
    "    3. number of edges enter or leaving the egonet of node v\n",
    "       here it's a undirected and unweighted graph, so we \n",
    "       can simplely count it with (tot_edges-inner_edges)\n",
    "\n",
    "    return type: Dict\n",
    "    returns: 3 basic features of a node\n",
    "    \"\"\"\n",
    "    \n",
    "    features_dict = {}\n",
    "    \n",
    "    node_degree = G.degree(Node)\n",
    "    \n",
    "    egonet_nodes = list(G.neighbors(Node))\n",
    "    egonet_nodes.append(Node)\n",
    "    egonet = G.subgraph(egonet_nodes)\n",
    "    number_of_edges_egonet = len(list(egonet.edges))\n",
    "    \n",
    "    nodes_set = set(G.nodes)\n",
    "    rest_nodes = nodes_set.difference(set(egonet_nodes))\n",
    "    number_of_connecting_edges = 0\n",
    "    \n",
    "    for i,j in G.edges: #мб через while лучше\n",
    "        if (i in egonet_nodes and j in rest_nodes) or (i in rest_nodes and j in egonet_nodes):\n",
    "            number_of_connecting_edges += 1\n",
    "    \n",
    "    \n",
    "    features_dict = {\n",
    "        'node_degree': node_degree,\n",
    "        'number_of_edges_egonet': number_of_edges_egonet,\n",
    "        'number_of_connecting_edges': number_of_connecting_edges\n",
    "    }\n",
    "    \n",
    "    return features_dict"
   ]
  },
  {
   "cell_type": "code",
   "execution_count": 33,
   "metadata": {},
   "outputs": [],
   "source": [
    "def getBasicFeatures(G):\n",
    "    \n",
    "    for i in G.nodes:\n",
    "        G.add_node(i,\n",
    "                   node_degree = getBasicFeaturesNode(i, G)['node_degree'],\n",
    "                   number_of_edges_egonet = getBasicFeaturesNode(i, G)['number_of_edges_egonet'],\n",
    "                   number_of_connecting_edges = getBasicFeaturesNode(i, G)['number_of_connecting_edges']\n",
    "                  )\n",
    "    \n",
    "    return G"
   ]
  },
  {
   "cell_type": "code",
   "execution_count": 34,
   "metadata": {},
   "outputs": [
    {
     "data": {
      "text/plain": [
       "{'node_degree': 6,\n",
       " 'number_of_edges_egonet': 10,\n",
       " 'number_of_connecting_edges': 1}"
      ]
     },
     "execution_count": 34,
     "metadata": {},
     "output_type": "execute_result"
    }
   ],
   "source": [
    "getBasicFeaturesNode(9, sG)"
   ]
  },
  {
   "cell_type": "code",
   "execution_count": 35,
   "metadata": {},
   "outputs": [
    {
     "data": {
      "text/plain": [
       "{'label': 'HUBERMAN, B',\n",
       " 'node_degree': 6,\n",
       " 'number_of_edges_egonet': 10,\n",
       " 'number_of_connecting_edges': 1}"
      ]
     },
     "execution_count": 35,
     "metadata": {},
     "output_type": "execute_result"
    }
   ],
   "source": [
    "sG2 = getBasicFeatures(sG)\n",
    "sG2.nodes[9]"
   ]
  },
  {
   "cell_type": "code",
   "execution_count": 36,
   "metadata": {},
   "outputs": [
    {
     "data": {
      "text/plain": [
       "{'label': 'HUBERMAN, B',\n",
       " 'node_degree': 6,\n",
       " 'number_of_edges_egonet': 10,\n",
       " 'number_of_connecting_edges': 1}"
      ]
     },
     "execution_count": 36,
     "metadata": {},
     "output_type": "execute_result"
    }
   ],
   "source": [
    "sG.add_node(9, node_degree = getBasicFeaturesNode(9, sG)['node_degree'])\n",
    "sG.nodes[9]"
   ]
  },
  {
   "cell_type": "code",
   "execution_count": 37,
   "metadata": {},
   "outputs": [],
   "source": [
    "sG2 = getBasicFeatures(sG)"
   ]
  },
  {
   "cell_type": "code",
   "execution_count": 38,
   "metadata": {},
   "outputs": [],
   "source": [
    "def calculateCosineSimilarity(x, y):\n",
    "    \n",
    "    sim_xy = 0.0\n",
    "    \n",
    "    if np.linalg.norm(x) == 0 or np.linalg.norm(y) == 0:\n",
    "        sim_xy = 0.0\n",
    "    else:\n",
    "        sim_xy = np.dot(x, y) / (np.linalg.norm(x) * np.linalg.norm(y))\n",
    "    \n",
    "    return sim_xy"
   ]
  },
  {
   "cell_type": "code",
   "execution_count": 40,
   "metadata": {},
   "outputs": [
    {
     "name": "stdout",
     "output_type": "stream",
     "text": [
      "{'node_degree': 6, 'number_of_edges_egonet': 10, 'number_of_connecting_edges': 1} {'node_degree': 3, 'number_of_edges_egonet': 6, 'number_of_connecting_edges': 4}\n"
     ]
    }
   ],
   "source": [
    "print(getBasicFeaturesNode(9, sG), getBasicFeaturesNode(10, sG))"
   ]
  },
  {
   "cell_type": "code",
   "execution_count": 43,
   "metadata": {},
   "outputs": [
    {
     "data": {
      "text/plain": [
       "0.8969921684948154"
      ]
     },
     "execution_count": 43,
     "metadata": {},
     "output_type": "execute_result"
    }
   ],
   "source": [
    "x = list(getBasicFeaturesNode(9, sG).values())\n",
    "y = list(getBasicFeaturesNode(10, sG).values())\n",
    "\n",
    "calculateCosineSimilarity(x, y)"
   ]
  },
  {
   "cell_type": "code",
   "execution_count": 44,
   "metadata": {},
   "outputs": [],
   "source": [
    "#переделать, теперь можно по графу проходиться\n",
    "\n",
    "x = list(getBasicFeaturesNode(9, sG).values())\n",
    "result_dict = {}\n",
    "\n",
    "for i in sG.nodes:\n",
    "    y = list(getBasicFeaturesNode(i, sG).values())\n",
    "    #print(calculateCosineSimilarity(x, y))\n",
    "    result_dict[i] = calculateCosineSimilarity(x, y)\n",
    "    \n",
    "#result_dict"
   ]
  },
  {
   "cell_type": "code",
   "execution_count": 45,
   "metadata": {},
   "outputs": [
    {
     "data": {
      "text/plain": [
       "0.9910548829514426"
      ]
     },
     "execution_count": 45,
     "metadata": {},
     "output_type": "execute_result"
    }
   ],
   "source": [
    "result_dict[1]"
   ]
  },
  {
   "cell_type": "code",
   "execution_count": 46,
   "metadata": {},
   "outputs": [
    {
     "data": {
      "text/plain": [
       "{9: 1.0,\n",
       " 415: 0.9996157540684272,\n",
       " 286: 0.996343680627828,\n",
       " 288: 0.996343680627828,\n",
       " 1054: 0.9961182380000687,\n",
       " 1336: 0.9961182380000687}"
      ]
     },
     "execution_count": 46,
     "metadata": {},
     "output_type": "execute_result"
    }
   ],
   "source": [
    "top_n = 6\n",
    "\n",
    "dict(sorted(result_dict.items(), key=lambda x: x[1], reverse=True)[:top_n])"
   ]
  },
  {
   "cell_type": "markdown",
   "metadata": {},
   "source": [
    "## Recursive Features [8 points]\n",
    "\n",
    "In this next step, we recursively generate some more features. We use mean and sum as aggregation\n",
    "functions.\n",
    "\n",
    "![qwe](img/recursive-features.png)\n",
    "\n",
    "For this exercise, run K = 2 iterations, and report the top 5 nodes that are most similar to node 9\n",
    "(excluding node 9). If there are ties, e.g. 4th, 5th, and 6th have the same similarity, report any of\n",
    "them to fill up the top-5 ranking. As a sanity check, the similarities between the reported nodes\n",
    "and node 9 are all greater than 0.9. [5 points]  \n",
    "Compare your obtained top 5 nodes with previous results from 2.1. In particular, are there common\n",
    "nodes? Are there different nodes? In one sentence, why would this change? [3 points]"
   ]
  },
  {
   "cell_type": "code",
   "execution_count": 48,
   "metadata": {},
   "outputs": [],
   "source": [
    "def getBasicFeaturesNode(Node, G):\n",
    "\n",
    "    features_dict = {}\n",
    "    \n",
    "    node_degree = G.degree(Node)\n",
    "    \n",
    "    egonet_nodes = list(G.neighbors(Node))\n",
    "    egonet_nodes.append(Node)\n",
    "    egonet = G.subgraph(egonet_nodes)\n",
    "    number_of_edges_egonet = len(list(egonet.edges))\n",
    "    \n",
    "    nodes_set = set(G.nodes)\n",
    "    rest_nodes = nodes_set.difference(set(egonet_nodes))\n",
    "    number_of_connecting_edges = 0\n",
    "    for i,j in G.edges: #мб через while лучше\n",
    "        if (i in egonet_nodes and j in rest_nodes) or (i in rest_nodes and j in egonet_nodes):\n",
    "            number_of_connecting_edges += 1\n",
    "    \n",
    "    \n",
    "    features_dict = {\n",
    "        'node_degree': node_degree,\n",
    "        'number_of_edges_egonet': number_of_edges_egonet,\n",
    "        'number_of_connecting_edges': number_of_connecting_edges\n",
    "    }\n",
    "    \n",
    "    return features_dict"
   ]
  },
  {
   "cell_type": "code",
   "execution_count": 49,
   "metadata": {},
   "outputs": [],
   "source": [
    "def calcClusteringCoefficientSingleNode(Node, G):\n",
    "    \"\"\"\n",
    "    :param - Node:\n",
    "    :param - Graph:\n",
    "\n",
    "    return type: float\n",
    "    returns: local clustering coeffient of Node\n",
    "    \"\"\"\n",
    "    #G = G.copy()\n",
    "    C = 0.0\n",
    "    \n",
    "    node_degree = G.degree(Node)\n",
    "    neighbors_nodes = list(G.neighbors(Node))\n",
    "    count_neighbors_edge = 0\n",
    "    \n",
    "    if node_degree < 2:\n",
    "        C = 0.0\n",
    "    else: \n",
    "        for edge in list(G.edges(neighbors_nodes)):\n",
    "            if edge[0] in neighbors_nodes and edge[1] in neighbors_nodes:\n",
    "                count_neighbors_edge += 1\n",
    "        C = (2 * count_neighbors_edge) / (node_degree * (node_degree - 1))\n",
    "    \n",
    "    \n",
    "    return C\n"
   ]
  },
  {
   "cell_type": "code",
   "execution_count": 50,
   "metadata": {},
   "outputs": [
    {
     "data": {
      "text/plain": [
       "{'label': 'HUBERMAN, B',\n",
       " 'node_degree': 6,\n",
       " 'number_of_edges_egonet': 10,\n",
       " 'number_of_connecting_edges': 1}"
      ]
     },
     "execution_count": 50,
     "metadata": {},
     "output_type": "execute_result"
    }
   ],
   "source": [
    "sG.nodes(data=True)[9]"
   ]
  },
  {
   "cell_type": "code",
   "execution_count": 51,
   "metadata": {},
   "outputs": [],
   "source": [
    "def get_recursive_features(graph, num_iter=2):\n",
    "    graph_attrs = dict()\n",
    "\n",
    "    for iter in range(1, num_iter + 1):\n",
    "        for node in graph.nodes(data=True):\n",
    "            node_label, node_features = node[0], node[1]\n",
    "            node_degree = nx.degree(graph, node_label)\n",
    "            node_neighbors = nx.subgraph(graph, list(nx.neighbors(graph, node_label)))\n",
    "\n",
    "            node_attrs = defaultdict(int)\n",
    "\n",
    "            if len(node_neighbors) > 0:\n",
    "                for node_neighbor in node_neighbors.nodes(data=True):\n",
    "                    for f_name, f_val in node_neighbor[1].items():\n",
    "                        if f_name != 'label':\n",
    "                            node_attrs[f\"iter{iter}_sum_{f_name}\"] += f_val\n",
    "                            node_attrs[f\"iter{iter}_mean_{f_name}\"] += f_val / node_degree\n",
    "            else:\n",
    "                for f_name, _ in node_features.items():\n",
    "                    node_attrs[f\"iter{iter}_sum_{f_name}\"] = 0\n",
    "                    node_attrs[f\"iter{iter}_mean_{f_name}\"] = 0\n",
    "\n",
    "            graph_attrs[node_label] = dict(node_attrs)\n",
    "        \n",
    "        nx.set_node_attributes(graph, graph_attrs)\n",
    "\n",
    "get_recursive_features(sG, 2)"
   ]
  },
  {
   "cell_type": "code",
   "execution_count": 53,
   "metadata": {},
   "outputs": [
    {
     "ename": "TypeError",
     "evalue": "unsupported operand type(s) for +: 'Graph' and 'int'",
     "output_type": "error",
     "traceback": [
      "\u001b[0;31m---------------------------------------------------------------------------\u001b[0m",
      "\u001b[0;31mTypeError\u001b[0m                                 Traceback (most recent call last)",
      "\u001b[1;32m/Users/avshoyko/Documents/Projects/cs224w_2019_hw/hw1/hw1_solution.ipynb Cell 54'\u001b[0m in \u001b[0;36m<cell line: 1>\u001b[0;34m()\u001b[0m\n\u001b[0;32m----> <a href='vscode-notebook-cell:/Users/avshoyko/Documents/Projects/cs224w_2019_hw/hw1/hw1_solution.ipynb#ch0000074?line=0'>1</a>\u001b[0m get_recursive_features(\u001b[39m2\u001b[39;49m, sG)[\u001b[39m9\u001b[39m]\n",
      "\u001b[1;32m/Users/avshoyko/Documents/Projects/cs224w_2019_hw/hw1/hw1_solution.ipynb Cell 53'\u001b[0m in \u001b[0;36mget_recursive_features\u001b[0;34m(graph, num_iter)\u001b[0m\n\u001b[1;32m      <a href='vscode-notebook-cell:/Users/avshoyko/Documents/Projects/cs224w_2019_hw/hw1/hw1_solution.ipynb#ch0000073?line=0'>1</a>\u001b[0m \u001b[39mdef\u001b[39;00m \u001b[39mget_recursive_features\u001b[39m(graph, num_iter\u001b[39m=\u001b[39m\u001b[39m2\u001b[39m):\n\u001b[1;32m      <a href='vscode-notebook-cell:/Users/avshoyko/Documents/Projects/cs224w_2019_hw/hw1/hw1_solution.ipynb#ch0000073?line=1'>2</a>\u001b[0m     graph_attrs \u001b[39m=\u001b[39m \u001b[39mdict\u001b[39m()\n\u001b[0;32m----> <a href='vscode-notebook-cell:/Users/avshoyko/Documents/Projects/cs224w_2019_hw/hw1/hw1_solution.ipynb#ch0000073?line=3'>4</a>\u001b[0m     \u001b[39mfor\u001b[39;00m \u001b[39miter\u001b[39m \u001b[39min\u001b[39;00m \u001b[39mrange\u001b[39m(\u001b[39m1\u001b[39m, num_iter \u001b[39m+\u001b[39;49m \u001b[39m1\u001b[39;49m):\n\u001b[1;32m      <a href='vscode-notebook-cell:/Users/avshoyko/Documents/Projects/cs224w_2019_hw/hw1/hw1_solution.ipynb#ch0000073?line=4'>5</a>\u001b[0m         \u001b[39mfor\u001b[39;00m node \u001b[39min\u001b[39;00m graph\u001b[39m.\u001b[39mnodes(data\u001b[39m=\u001b[39m\u001b[39mTrue\u001b[39;00m):\n\u001b[1;32m      <a href='vscode-notebook-cell:/Users/avshoyko/Documents/Projects/cs224w_2019_hw/hw1/hw1_solution.ipynb#ch0000073?line=5'>6</a>\u001b[0m             node_label, node_features \u001b[39m=\u001b[39m node[\u001b[39m0\u001b[39m], node[\u001b[39m1\u001b[39m]\n",
      "\u001b[0;31mTypeError\u001b[0m: unsupported operand type(s) for +: 'Graph' and 'int'"
     ]
    }
   ],
   "source": [
    "get_recursive_features(2, sG)[9]"
   ]
  },
  {
   "cell_type": "markdown",
   "metadata": {},
   "source": [
    "# Community detection using the Louvain algorithm [25 points]"
   ]
  },
  {
   "cell_type": "code",
   "execution_count": null,
   "metadata": {},
   "outputs": [],
   "source": []
  }
 ],
 "metadata": {
  "interpreter": {
   "hash": "963496e8aaf521e3fc8b1dd9015c4674866be49187452e1cd278ede54c5d2c97"
  },
  "kernelspec": {
   "display_name": "Python 3.10.3 64-bit ('graph-ipynb')",
   "language": "python",
   "name": "python3"
  },
  "language_info": {
   "codemirror_mode": {
    "name": "ipython",
    "version": 3
   },
   "file_extension": ".py",
   "mimetype": "text/x-python",
   "name": "python",
   "nbconvert_exporter": "python",
   "pygments_lexer": "ipython3",
   "version": "3.10.3"
  },
  "orig_nbformat": 4
 },
 "nbformat": 4,
 "nbformat_minor": 2
}
